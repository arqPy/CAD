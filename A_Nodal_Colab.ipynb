{
  "cells": [
    {
      "cell_type": "markdown",
      "metadata": {
        "id": "view-in-github",
        "colab_type": "text"
      },
      "source": [
        "<a href=\"https://colab.research.google.com/github/arqPy/CAD/blob/main/A_Nodal_Colab.ipynb\" target=\"_parent\"><img src=\"https://colab.research.google.com/assets/colab-badge.svg\" alt=\"Open In Colab\"/></a>"
      ]
    },
    {
      "cell_type": "markdown",
      "metadata": {
        "id": "dxAYbUR-TmMs"
      },
      "source": [
        "# Análise Nodal\n",
        "\n",
        "\n",
        "LKT\n",
        "\n",
        "$AI = 0$\n",
        "\n"
      ]
    },
    {
      "cell_type": "code",
      "source": [
        "def nos_ramos(circuito):\n",
        "\n",
        "  nR = len(circuito)\n",
        "  listNodes= set([])\n",
        "  for ramo in circuito:\n",
        "    no1 = ramo['NP']\n",
        "    no2 = ramo['NC']\n",
        "\n",
        "    listNodes.add(no1)\n",
        "    listNodes.add(no2)\n",
        "  nN = len(listNodes)\n",
        "  return (nN - 1, nR)\n",
        "\n"
      ],
      "metadata": {
        "id": "xj10tNTnucDT"
      },
      "execution_count": 4,
      "outputs": []
    },
    {
      "cell_type": "code",
      "execution_count": 6,
      "metadata": {
        "id": "VzmSxx1dTmM0"
      },
      "outputs": [],
      "source": [
        "# PROGRAMA PRINCIPAL --- Lê o grafo em um dicionário python\n",
        "import numpy as np\n",
        "def executaCircuito(circuito):\n",
        "  (nN, nR) = nos_ramos(circuito)\n",
        "  A = np.zeros((nN, nR))\n",
        "\n",
        "  G = np.zeros((nR, nR))\n",
        "  Is = np.zeros((nR, 1))\n",
        "  Vs = np.zeros((nR, 1))\n",
        "\n",
        "  for ramo in circuito:\n",
        "    no1 = ramo['NP']\n",
        "    no2 = ramo['NC']\n",
        "\n",
        "    i = ramo['id']\n",
        "    print(no1, no2, i)\n",
        "    G[i - 1, i - 1] = 1./ramo['R']\n",
        "    Vs[i - 1, 0] = ramo['Vs']\n",
        "    Is[i - 1, 0] = ramo['Is']\n",
        "\n",
        "    if (no1 != 0):\n",
        "      A[no1-1, i-1 ] = 1.\n",
        "    if (no2 != 0):\n",
        "      A[no2-1, i-1 ] = -1.\n",
        "\n",
        "  # Matrizes\n",
        "  A = np.matrix(A, dtype=np.float64)\n",
        "  G = np.matrix(G, dtype=np.float64)\n",
        "  Vs = np.matrix(Vs, dtype=np.float64)\n",
        "  Is = np.matrix(Is, dtype=np.float64)\n",
        "\n",
        "  print(100*\"*\")\n",
        "  print(\"Entrada \")\n",
        "  print(\"\\nA \\n\", A)\n",
        "  print(\"\\nG \\n\", G)\n",
        "  print(\"\\nVs \\n\", Vs)\n",
        "  print(\"\\nIs \\n\", Is)\n",
        "\n",
        "  Gb = A*G*A.T\n",
        "  In = A*(G*Vs - Is)\n",
        "  E = (Gb.I)*In\n",
        "  V = A.T*E\n",
        "  I = Is + G*(V - Vs)\n",
        "\n",
        "  print(100*\"*\")\n",
        "  print(\"\\nSaída \")\n",
        "  print(\"\\nCondutâncias de barras \\n\", Gb)\n",
        "  print(\"\\nCorrente Independente Resultante no Nó \\n\", In)\n",
        "  print(\"\\nTensão de Nó \\n\", E)\n",
        "  print(\"\\nTensão de ramo \\n\", V)\n",
        "  print(\"\\nCorrente de ramo \\n\", I)\n",
        "  return"
      ]
    },
    {
      "cell_type": "markdown",
      "source": [
        "1 - *Exemplo*\n",
        "\n",
        "![](https://github.com/arqPy/CAD/blob/main/Circuito_eletrico/fig/Circuito-Grafo-01.png?raw=true)"
      ],
      "metadata": {
        "id": "jIWwTgV2VyP1"
      }
    },
    {
      "cell_type": "code",
      "execution_count": 7,
      "metadata": {
        "id": "VyEaEF-CTmNB",
        "colab": {
          "base_uri": "https://localhost:8080/"
        },
        "outputId": "b3b0ee75-cfb5-444a-ef0f-13d0b8993654"
      },
      "outputs": [
        {
          "output_type": "execute_result",
          "data": {
            "text/plain": [
              "(3, 6)"
            ]
          },
          "metadata": {},
          "execution_count": 7
        }
      ],
      "source": [
        "# grafo do circuito TOPOLOGIA - LISTA DE RAMOS\n",
        "circuito = [\n",
        "    {'id': 1, 'NP': 0, 'NC': 1, 'R': 7, 'Vs': 0, 'Is': 16},\n",
        "    {'id': 2, 'NP': 1, 'NC': 2, 'R': 1e-7, 'Vs': -2, 'Is': 0},\n",
        "    {'id': 3, 'NP': 2, 'NC': 3, 'R': 2, 'Vs': 0, 'Is': 0},\n",
        "    {'id': 4, 'NP': 2, 'NC': 0, 'R': 6, 'Vs': 0, 'Is': 0},\n",
        "    {'id': 5, 'NP': 3, 'NC': 0, 'R': 4, 'Vs': 8, 'Is': 0},\n",
        "    {'id': 6, 'NP': 0, 'NC': 3, 'R': 2, 'Vs': -6, 'Is': 0},\n",
        "]\n",
        "nos_ramos(circuito)"
      ]
    },
    {
      "cell_type": "code",
      "source": [
        "executaCircuito(circuito)"
      ],
      "metadata": {
        "colab": {
          "base_uri": "https://localhost:8080/"
        },
        "id": "BohbOgTrw8m8",
        "outputId": "5be5c938-bf02-46dc-e41d-94a5e83cff72"
      },
      "execution_count": 8,
      "outputs": [
        {
          "output_type": "stream",
          "name": "stdout",
          "text": [
            "0 1 1\n",
            "1 2 2\n",
            "2 3 3\n",
            "2 0 4\n",
            "3 0 5\n",
            "0 3 6\n",
            "****************************************************************************************************\n",
            "Entrada \n",
            "\n",
            "A \n",
            " [[-1.  1.  0.  0.  0.  0.]\n",
            " [ 0. -1.  1.  1.  0.  0.]\n",
            " [ 0.  0. -1.  0.  1. -1.]]\n",
            "\n",
            "G \n",
            " [[1.42857143e-01 0.00000000e+00 0.00000000e+00 0.00000000e+00\n",
            "  0.00000000e+00 0.00000000e+00]\n",
            " [0.00000000e+00 1.00000000e+07 0.00000000e+00 0.00000000e+00\n",
            "  0.00000000e+00 0.00000000e+00]\n",
            " [0.00000000e+00 0.00000000e+00 5.00000000e-01 0.00000000e+00\n",
            "  0.00000000e+00 0.00000000e+00]\n",
            " [0.00000000e+00 0.00000000e+00 0.00000000e+00 1.66666667e-01\n",
            "  0.00000000e+00 0.00000000e+00]\n",
            " [0.00000000e+00 0.00000000e+00 0.00000000e+00 0.00000000e+00\n",
            "  2.50000000e-01 0.00000000e+00]\n",
            " [0.00000000e+00 0.00000000e+00 0.00000000e+00 0.00000000e+00\n",
            "  0.00000000e+00 5.00000000e-01]]\n",
            "\n",
            "Vs \n",
            " [[ 0.]\n",
            " [-2.]\n",
            " [ 0.]\n",
            " [ 0.]\n",
            " [ 8.]\n",
            " [-6.]]\n",
            "\n",
            "Is \n",
            " [[16.]\n",
            " [ 0.]\n",
            " [ 0.]\n",
            " [ 0.]\n",
            " [ 0.]\n",
            " [ 0.]]\n",
            "****************************************************************************************************\n",
            "\n",
            "Saída \n",
            "\n",
            "Condutâncias de barras \n",
            " [[ 1.00000001e+07 -1.00000000e+07  0.00000000e+00]\n",
            " [-1.00000000e+07  1.00000007e+07 -5.00000000e-01]\n",
            " [ 0.00000000e+00 -5.00000000e-01  1.25000000e+00]]\n",
            "\n",
            "Corrente Independente Resultante no Nó \n",
            " [[-1.9999984e+07]\n",
            " [ 2.0000000e+07]\n",
            " [ 5.0000000e+00]]\n",
            "\n",
            "Tensão de Nó \n",
            " [[28.00000091]\n",
            " [29.99999971]\n",
            " [15.99999988]]\n",
            "\n",
            "Tensão de ramo \n",
            " [[-28.00000091]\n",
            " [ -1.9999988 ]\n",
            " [ 13.99999983]\n",
            " [ 29.99999971]\n",
            " [ 15.99999988]\n",
            " [-15.99999988]]\n",
            "\n",
            "Corrente de ramo \n",
            " [[11.99999987]\n",
            " [12.01703522]\n",
            " [ 6.99999991]\n",
            " [ 4.99999995]\n",
            " [ 1.99999997]\n",
            " [-4.99999994]]\n"
          ]
        }
      ]
    },
    {
      "cell_type": "markdown",
      "source": [
        "ENTRE COM O GRAFO REFERENTE AO CIRCUITO ABAIXO\n",
        "\n",
        "![](https://github.com/arqPy/CAD/blob/main/Circuito_eletrico/fig/CIRCUITO_REDUZIDO.jpeg?raw=true)\n",
        "\n",
        "\n",
        "\n"
      ],
      "metadata": {
        "id": "5VOzVWbzaCKc"
      }
    },
    {
      "cell_type": "code",
      "source": [
        "# Reduzindo\n",
        "circuito = [\n",
        "    {'id': 1, 'NP': 0, 'NC': 1, 'R': 7, 'Vs': 0, 'Is': 16},\n",
        "    {'id': 2, 'NP': 1, 'NC': 2, 'R': 1e-7, 'Vs': -2, 'Is': 0},\n",
        "    {'id': 3, 'NP': 2, 'NC': 0, 'R': 6, 'Vs': 0, 'Is': 0},\n",
        "    {'id': 4, 'NP': 0, 'NC': 2, 'R': 10/3, 'Vs': -20/3, 'Is': 0}\n",
        "]\n",
        "executaCircuito(circuito)"
      ],
      "metadata": {
        "id": "gvOjiN4yWctx",
        "colab": {
          "base_uri": "https://localhost:8080/"
        },
        "outputId": "ad375e52-f9f0-49f3-f30f-b80727c7a235"
      },
      "execution_count": 10,
      "outputs": [
        {
          "output_type": "stream",
          "name": "stdout",
          "text": [
            "0 1 1\n",
            "1 2 2\n",
            "2 0 3\n",
            "0 2 4\n",
            "****************************************************************************************************\n",
            "Entrada \n",
            "\n",
            "A \n",
            " [[-1.  1.  0.  0.]\n",
            " [ 0. -1.  1. -1.]]\n",
            "\n",
            "G \n",
            " [[1.42857143e-01 0.00000000e+00 0.00000000e+00 0.00000000e+00]\n",
            " [0.00000000e+00 1.00000000e+07 0.00000000e+00 0.00000000e+00]\n",
            " [0.00000000e+00 0.00000000e+00 1.66666667e-01 0.00000000e+00]\n",
            " [0.00000000e+00 0.00000000e+00 0.00000000e+00 3.00000000e-01]]\n",
            "\n",
            "Vs \n",
            " [[ 0.        ]\n",
            " [-2.        ]\n",
            " [ 0.        ]\n",
            " [-6.66666667]]\n",
            "\n",
            "Is \n",
            " [[16.]\n",
            " [ 0.]\n",
            " [ 0.]\n",
            " [ 0.]]\n",
            "****************************************************************************************************\n",
            "\n",
            "Saída \n",
            "\n",
            "Condutâncias de barras \n",
            " [[ 10000000.14285714 -10000000.        ]\n",
            " [-10000000.          10000000.46666667]]\n",
            "\n",
            "Corrente Independente Resultante no Nó \n",
            " [[-19999984.]\n",
            " [ 20000002.]]\n",
            "\n",
            "Tensão de Nó \n",
            " [[28.00000087]\n",
            " [29.99999967]]\n",
            "\n",
            "Tensão de ramo \n",
            " [[-28.00000087]\n",
            " [ -1.9999988 ]\n",
            " [ 29.99999967]\n",
            " [-29.99999967]]\n",
            "\n",
            "Corrente de ramo \n",
            " [[11.99999988]\n",
            " [12.03875037]\n",
            " [ 4.99999994]\n",
            " [-6.9999999 ]]\n"
          ]
        }
      ]
    },
    {
      "cell_type": "markdown",
      "source": [
        "Circuito comparado com O LTSpice\n",
        "![](https://moodle.ifg.edu.br/pluginfile.php/1475067/mod_label/intro/anNodal.png)"
      ],
      "metadata": {
        "id": "K8c3FKuWwaeg"
      }
    },
    {
      "cell_type": "code",
      "source": [
        "circuito = [\n",
        "    {'id': 1, 'NP': 3, 'NC': 1, 'R': 10/7, 'Vs': 0, 'Is': 1},\n",
        "    {'id': 2, 'NP': 1, 'NC': 2, 'R': 5, 'Vs': 0, 'Is': -2},\n",
        "    {'id': 3, 'NP': 2, 'NC': 3, 'R': 10, 'Vs': 0, 'Is': 0},\n",
        "    {'id': 4, 'NP': 0, 'NC': 2, 'R': 4, 'Vs': 0, 'Is': 3},\n",
        "    {'id': 5, 'NP': 0, 'NC': 3, 'R': 2, 'Vs': 0, 'Is': 0}\n",
        "]\n",
        "executaCircuito(circuito)"
      ],
      "metadata": {
        "colab": {
          "base_uri": "https://localhost:8080/"
        },
        "id": "JZ-qOzv9xBxJ",
        "outputId": "4da9a671-d24f-4ef5-edec-e1a02bc63138"
      },
      "execution_count": 11,
      "outputs": [
        {
          "output_type": "stream",
          "name": "stdout",
          "text": [
            "3 1 1\n",
            "1 2 2\n",
            "2 3 3\n",
            "0 2 4\n",
            "0 3 5\n",
            "****************************************************************************************************\n",
            "Entrada \n",
            "\n",
            "A \n",
            " [[-1.  1.  0.  0.  0.]\n",
            " [ 0. -1.  1. -1.  0.]\n",
            " [ 1.  0. -1.  0. -1.]]\n",
            "\n",
            "G \n",
            " [[0.7  0.   0.   0.   0.  ]\n",
            " [0.   0.2  0.   0.   0.  ]\n",
            " [0.   0.   0.1  0.   0.  ]\n",
            " [0.   0.   0.   0.25 0.  ]\n",
            " [0.   0.   0.   0.   0.5 ]]\n",
            "\n",
            "Vs \n",
            " [[0.]\n",
            " [0.]\n",
            " [0.]\n",
            " [0.]\n",
            " [0.]]\n",
            "\n",
            "Is \n",
            " [[ 1.]\n",
            " [-2.]\n",
            " [ 0.]\n",
            " [ 3.]\n",
            " [ 0.]]\n",
            "****************************************************************************************************\n",
            "\n",
            "Saída \n",
            "\n",
            "Condutâncias de barras \n",
            " [[ 0.9  -0.2  -0.7 ]\n",
            " [-0.2   0.55 -0.1 ]\n",
            " [-0.7  -0.1   1.3 ]]\n",
            "\n",
            "Corrente Independente Resultante no Nó \n",
            " [[ 3.]\n",
            " [ 1.]\n",
            " [-1.]]\n",
            "\n",
            "Tensão de Nó \n",
            " [[7.15789474]\n",
            " [5.05263158]\n",
            " [3.47368421]]\n",
            "\n",
            "Tensão de ramo \n",
            " [[-3.68421053]\n",
            " [ 2.10526316]\n",
            " [ 1.57894737]\n",
            " [-5.05263158]\n",
            " [-3.47368421]]\n",
            "\n",
            "Corrente de ramo \n",
            " [[-1.57894737]\n",
            " [-1.57894737]\n",
            " [ 0.15789474]\n",
            " [ 1.73684211]\n",
            " [-1.73684211]]\n"
          ]
        }
      ]
    },
    {
      "cell_type": "markdown",
      "metadata": {
        "id": "OSuSnkpVTmM9"
      },
      "source": [
        "V(n001): 7.15789 voltage\n",
        "V(n003): 3.47368 voltage\n",
        "V(n002): 5.05263 voltage\n",
        "I(I3): 3 device_current\n",
        "I(I2): 2 device_current\n",
        "I(I1): 1 device_current\n",
        "I(R6): -1.73684 device_current\n",
        "I(R5): -0.421053 device_current\n",
        "I(R4): 1.26316 device_current\n",
        "I(R3): 0.157895 device_current\n",
        "I(R2): 1.84211 device_current\n",
        "I(R1): 0.736842 device_current\n",
        "    \n",
        "CORRETO\n"
      ]
    },
    {
      "cell_type": "code",
      "source": [],
      "metadata": {
        "id": "elyGBMa7zRgs"
      },
      "execution_count": null,
      "outputs": []
    }
  ],
  "metadata": {
    "kernelspec": {
      "display_name": "Python 3",
      "language": "python",
      "name": "python3"
    },
    "language_info": {
      "codemirror_mode": {
        "name": "ipython",
        "version": 3
      },
      "file_extension": ".py",
      "mimetype": "text/x-python",
      "name": "python",
      "nbconvert_exporter": "python",
      "pygments_lexer": "ipython3",
      "version": "3.8.5"
    },
    "colab": {
      "provenance": [],
      "include_colab_link": true
    }
  },
  "nbformat": 4,
  "nbformat_minor": 0
}