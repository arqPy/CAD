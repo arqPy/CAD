{
 "cells": [
  {
   "cell_type": "code",
   "execution_count": 5,
   "metadata": {},
   "outputs": [],
   "source": [
    "import numpy as np"
   ]
  },
  {
   "cell_type": "markdown",
   "metadata": {},
   "source": [
    "# Análise Nodal\n",
    "\n",
    "![](fig/circuito1.png)\n",
    "\n",
    "$R = \\frac{V}{I}$"
   ]
  },
  {
   "cell_type": "code",
   "execution_count": 13,
   "metadata": {},
   "outputs": [
    {
     "data": {
      "text/plain": [
       "matrix([[2.25],\n",
       "        [2.25],\n",
       "        [2.25]])"
      ]
     },
     "execution_count": 13,
     "metadata": {},
     "output_type": "execute_result"
    }
   ],
   "source": [
    "r =3\n",
    "n = 2 # 3 nós, sendo 1 nó de referência\n",
    "\n",
    "# Entrada retirada do Grafo\n",
    "A =np.array([[-1, 1, 0], [0,-1,1]])\n",
    "\n",
    "G = np.zeros((r, r))\n",
    "G[0, 0] = 1/6\n",
    "G[1,1] = 1/2\n",
    "G[2, 2] = 1/2\n",
    "\n",
    "\n",
    "Is = np.zeros((r, 1))\n",
    "Is[0,0] = 3.75\n",
    "\n",
    "Vs = np.zeros((r, 1))\n",
    "\n",
    "\n",
    "# Matrizes\n",
    "A = np.matrix(A)\n",
    "G = np.matrix(G)\n",
    "Vs = np.matrix(Vs)\n",
    "Is = np.matrix(Is)\n",
    "\n",
    "#Calculos\n",
    "Gb = A*G*A.T\n",
    "E= Gb.I*A*(G*Vs-Is)\n",
    "V = A.T*E\n",
    "I = Is + G*(V-Vs)\n",
    "I"
   ]
  },
  {
   "cell_type": "code",
   "execution_count": 17,
   "metadata": {},
   "outputs": [
    {
     "data": {
      "text/plain": [
       "3.75"
      ]
     },
     "execution_count": 17,
     "metadata": {},
     "output_type": "execute_result"
    }
   ],
   "source": [
    "45/12\n"
   ]
  },
  {
   "cell_type": "code",
   "execution_count": 15,
   "metadata": {},
   "outputs": [
    {
     "name": "stdout",
     "output_type": "stream",
     "text": [
      "Numero de Nós L.I.: 2\n",
      "Numero de Ramos: 4\n",
      "Nó de partida do ramo 1 : 0\n",
      "Nó de chegada do ramo 1 : 1\n",
      "Nó de partida do ramo 2 : 1\n",
      "Nó de chegada do ramo 2 : 0\n",
      "Nó de partida do ramo 3 : 1\n",
      "Nó de chegada do ramo 3 : 2\n",
      "Nó de partida do ramo 4 : 2\n",
      "Nó de chegada do ramo 4 : 0\n"
     ]
    },
    {
     "data": {
      "text/plain": [
       "array([[-1.,  1.,  1.,  0.],\n",
       "       [ 0.,  0., -1.,  1.]])"
      ]
     },
     "execution_count": 15,
     "metadata": {},
     "output_type": "execute_result"
    }
   ],
   "source": [
    "import numpy as np\n",
    "\n",
    "nN = int(input(\"Numero de Nós L.I.: \"))\n",
    "nR = int(input(\"Numero de Ramos: \"))\n",
    "A = np.zeros((nN, nR))\n",
    "\n",
    "for r in range(nR):\n",
    "    i = int(input(\"Nó de partida do ramo %d : \" %(r +1)))\n",
    "    j = int(input(\"Nó de chegada do ramo %d : \" %(r + 1)))\n",
    "    if ((i != j)and(i>0)):\n",
    "        A[i - 1, r ] = 1\n",
    "    if ((i != j)and(j>0)):\n",
    "        A[j - 1, r] = -1\n",
    "    \n",
    "        \n",
    "A"
   ]
  },
  {
   "cell_type": "code",
   "execution_count": 1,
   "metadata": {},
   "outputs": [],
   "source": [
    "import networkx as nx"
   ]
  },
  {
   "cell_type": "code",
   "execution_count": 62,
   "metadata": {},
   "outputs": [],
   "source": [
    "G = nx.DiGraph()\n",
    "#G.add_edges_from([[0, 1], [1,0], [1, 2], [2, 0]])\n",
    "G.add_edge(1, 0, id=1, r=8, vs=0, i_s=0)\n",
    "G.add_edge(0, 1, id=2, r=4, vs=0, i_s=0)\n",
    "G.add_edge(1, 2, id=3, r=4, vs=0, i_s=0)\n",
    "G.add_edge(2, 1, id=4, r=12, vs=0, i_s=0)\n",
    "G.add_edge(2, 0, id=5, r=1e30, vs=0, i_s=8)"
   ]
  },
  {
   "cell_type": "code",
   "execution_count": 63,
   "metadata": {},
   "outputs": [
    {
     "data": {
      "image/png": "[encoded data removed]",
      "text/plain": [
       "<Figure size 432x288 with 1 Axes>"
      ]
     },
     "metadata": {},
     "output_type": "display_data"
    }
   ],
   "source": [
    "nx.draw(G, with_labels=True)"
   ]
  },
  {
   "cell_type": "code",
   "execution_count": 64,
   "metadata": {},
   "outputs": [
    {
     "name": "stdout",
     "output_type": "stream",
     "text": [
      "Gb= [[ 0.70833333 -0.33333333]\n",
      " [-0.33333333  0.33333333]]\n",
      "E= [[-21.33333333]\n",
      " [-45.33333333]]\n",
      "V= [[-21.33333333]\n",
      " [ 21.33333333]\n",
      " [ 24.        ]\n",
      " [-24.        ]\n",
      " [-45.33333333]]\n",
      "I= [[-2.66666667]\n",
      " [ 5.33333333]\n",
      " [ 6.        ]\n",
      " [-2.        ]\n",
      " [ 8.        ]]\n"
     ]
    }
   ],
   "source": [
    "import numpy as np\n",
    "\n",
    "nN = G.number_of_nodes() - 1\n",
    "nR = G.number_of_edges()\n",
    "A = np.zeros((nN, nR))\n",
    "G_ = np.zeros((nR, nR))\n",
    "Is = np.zeros((nR, 1))\n",
    "Vs = np.zeros((nR, 1))\n",
    "\n",
    "\n",
    "for r in G.edges:\n",
    "    nP = r[0]\n",
    "    nC = r[1]\n",
    "    i = G[nP][nC]['id']\n",
    "    #print(\"Ramo \", i, \" (\", nP,\" ,\", nC, \")\")\n",
    "    if (nP != 0):\n",
    "      A[nP-1, i-1 ] = 1.\n",
    "    if (nC != 0):\n",
    "      A[nC-1, i-1 ] = -1.\n",
    "    G_[i-1][i-1]= 1./G[nP][nC]['r']\n",
    "    Is[i-1, 0] = G[nP][nC]['i_s']\n",
    "    Vs[i-1, 0] = G[nP][nC]['vs']\n",
    "    \n",
    "\n",
    "# Matrizes\n",
    "A = np.matrix(A)\n",
    "G_ = np.matrix(G_)\n",
    "Vs = np.matrix(Vs)\n",
    "Is = np.matrix(Is)\n",
    "\n",
    "Gb = A*G_*A.T\n",
    "print(\"Gb=\",Gb)\n",
    "E= Gb.I*A*(G_*Vs-Is)\n",
    "print(\"E=\", E)\n",
    "V = A.T*E\n",
    "print(\"V=\", V)\n",
    "I = Is + G_*(V-Vs)\n",
    "print(\"I=\", I)\n"
   ]
  },
  {
   "cell_type": "markdown",
   "metadata": {},
   "source": [
    "![](fig/ramo_k.png)\n"
   ]
  },
  {
   "cell_type": "markdown",
   "metadata": {},
   "source": [
    "Em um ramo k:\n",
    "\n",
    "$i_k = i_{sk} + g_k*(v - v_{sk})$\n",
    "\n",
    "Todos os ramos do circuito:\n",
    "\n",
    "$I = I_S + G*(V - V_S)$\n",
    "\n",
    "Multiplicando ambos os membros da igualdade pela Matriz A:\n",
    "\n",
    "$A*I = A*I_S + A*G*V - A*G*V_S$\n",
    "\n",
    "Considerando, A*I = 0 (LKC) e $v = A^t*E$:\n",
    "\n",
    "$0 = A*I_S + A*G*A^t*E - A*G*V_S$\n",
    "\n",
    "$A*G*A^t*E = A*G*V_S-A*I_S$\n",
    "\n",
    "$G_{barra}*E = A*(G*V_S -I_S)$"
   ]
  },
  {
   "cell_type": "markdown",
   "metadata": {},
   "source": [
    "![](fig/Circuito-Grafo-01.png)"
   ]
  },
  {
   "cell_type": "code",
   "execution_count": 1,
   "metadata": {},
   "outputs": [],
   "source": [
    "import networkx as nx\n",
    "\n",
    "Grafo = nx.DiGraph()\n",
    "\n",
    "Grafo.add_edge(0, 1, id=1,r=7, vs=0, i_s=16)\n",
    "Grafo.add_edge(1, 2, id=2, r=1e-30, vs=-2, i_s=0)\n",
    "Grafo.add_edge(2, 3, id=3, r=2, vs=0, i_s=0)\n",
    "Grafo.add_edge(2, 0, id=4, r=6, vs=0, i_s=0)\n",
    "Grafo.add_edge(3, 0, id=5, r=4, vs=8, i_s=0)\n",
    "Grafo.add_edge(0, 3, id=6, r=2, vs=-6, i_s=0)"
   ]
  },
  {
   "cell_type": "code",
   "execution_count": 2,
   "metadata": {},
   "outputs": [
    {
     "data": {
      "image/png": "[encoded data removed]",
      "text/plain": [
       "<Figure size 432x288 with 1 Axes>"
      ]
     },
     "metadata": {},
     "output_type": "display_data"
    }
   ],
   "source": [
    "nx.draw(Grafo, with_labels=True)"
   ]
  },
  {
   "cell_type": "code",
   "execution_count": 3,
   "metadata": {},
   "outputs": [
    {
     "name": "stdout",
     "output_type": "stream",
     "text": [
      "\n",
      "Entrada \n",
      " **************************************************\n",
      "\n",
      "A \n",
      " [[-1.  1.  0.  0.  0.  0.]\n",
      " [ 0. -1.  1.  1.  0.  0.]\n",
      " [ 0.  0. -1.  0.  1. -1.]]\n",
      "\n",
      "G \n",
      " [[1.42857143e-01 0.00000000e+00 0.00000000e+00 0.00000000e+00\n",
      "  0.00000000e+00 0.00000000e+00]\n",
      " [0.00000000e+00 1.00000000e+30 0.00000000e+00 0.00000000e+00\n",
      "  0.00000000e+00 0.00000000e+00]\n",
      " [0.00000000e+00 0.00000000e+00 5.00000000e-01 0.00000000e+00\n",
      "  0.00000000e+00 0.00000000e+00]\n",
      " [0.00000000e+00 0.00000000e+00 0.00000000e+00 1.66666667e-01\n",
      "  0.00000000e+00 0.00000000e+00]\n",
      " [0.00000000e+00 0.00000000e+00 0.00000000e+00 0.00000000e+00\n",
      "  2.50000000e-01 0.00000000e+00]\n",
      " [0.00000000e+00 0.00000000e+00 0.00000000e+00 0.00000000e+00\n",
      "  0.00000000e+00 5.00000000e-01]]\n",
      "\n",
      "Vs \n",
      " [[ 0.]\n",
      " [-2.]\n",
      " [ 0.]\n",
      " [ 0.]\n",
      " [ 8.]\n",
      " [-6.]]\n",
      "\n",
      "Is \n",
      " [[16.]\n",
      " [ 0.]\n",
      " [ 0.]\n",
      " [ 0.]\n",
      " [ 0.]\n",
      " [ 0.]]\n",
      "\n",
      "Saída \n",
      " **************************************************\n",
      "\n",
      "Condutâncias de barras \n",
      " [[ 1.00e+30 -1.00e+30  0.00e+00]\n",
      " [-1.00e+30  1.00e+30 -5.00e-01]\n",
      " [ 0.00e+00 -5.00e-01  1.25e+00]]\n",
      "\n",
      "Corrente Independente Resultante no Nó \n",
      " [[-2.e+30]\n",
      " [ 2.e+30]\n",
      " [ 5.e+00]]\n",
      "\n",
      "Tensão de Nó \n",
      " [[-10.]\n",
      " [-10.]\n",
      " [  0.]]\n",
      "\n",
      "Tensão de ramo \n",
      " [[ 10.]\n",
      " [  0.]\n",
      " [-10.]\n",
      " [-10.]\n",
      " [  0.]\n",
      " [  0.]]\n",
      "\n",
      "Corrente de ramo \n",
      " [[ 1.74285714e+01]\n",
      " [ 2.00000000e+30]\n",
      " [-5.00000000e+00]\n",
      " [-1.66666667e+00]\n",
      " [-2.00000000e+00]\n",
      " [ 3.00000000e+00]]\n"
     ]
    }
   ],
   "source": [
    "import numpy as np\n",
    "\n",
    "nN = Grafo.number_of_nodes() - 1\n",
    "nR = Grafo.number_of_edges()\n",
    "\n",
    "A = np.zeros((nN, nR))\n",
    "G = np.zeros((nR, nR))\n",
    "Is = np.zeros((nR, 1))\n",
    "Vs = np.zeros((nR, 1))\n",
    "\n",
    "\n",
    "for r in Grafo.edges:\n",
    "    nP = r[0]\n",
    "    nC = r[1]\n",
    "    i = Grafo[nP][nC]['id']\n",
    "    #print(\"Ramo \", i, \" (\", nP,\" ,\", nC, \")\")\n",
    "    if (nP != 0):\n",
    "      A[nP-1, i-1 ] = 1.\n",
    "    if (nC != 0):\n",
    "      A[nC-1, i-1 ] = -1.\n",
    "    G[i-1][i-1]= 1./Grafo[nP][nC]['r']\n",
    "    Is[i-1, 0] = Grafo[nP][nC]['i_s']\n",
    "    Vs[i-1, 0] = Grafo[nP][nC]['vs']\n",
    "    \n",
    "\n",
    "\n",
    "# Matrizes\n",
    "A = np.matrix(A, dtype=np.float64)\n",
    "G = np.matrix(G, dtype=np.float64)\n",
    "Vs = np.matrix(Vs, dtype=np.float64)\n",
    "Is = np.matrix(Is, dtype=np.float64)\n",
    "\n",
    "print(\"\\nEntrada \\n\", \"**************************************************\")\n",
    "print(\"\\nA \\n\", A)\n",
    "print(\"\\nG \\n\", G)\n",
    "print(\"\\nVs \\n\", Vs)\n",
    "print(\"\\nIs \\n\", Is)\n",
    "\n",
    "Gb = A*G*A.T\n",
    "In = A*(G*Vs - Is)\n",
    "E = (Gb.I)*In\n",
    "V = A.T*E\n",
    "I = Is + G*(V - Vs)\n",
    "\n",
    "\n",
    "print(\"\\nSaída \\n\", \"**************************************************\")\n",
    "print(\"\\nCondutâncias de barras \\n\", Gb)\n",
    "print(\"\\nCorrente Independente Resultante no Nó \\n\", In)\n",
    "print(\"\\nTensão de Nó \\n\", E)\n",
    "print(\"\\nTensão de ramo \\n\", V)\n",
    "print(\"\\nCorrente de ramo \\n\", I)\n",
    "\n",
    "\n",
    "\n"
   ]
  },
  {
   "cell_type": "code",
   "execution_count": 35,
   "metadata": {},
   "outputs": [
    {
     "data": {
      "text/plain": [
       "matrix([[ 1.00e+30, -1.00e+30,  0.00e+00],\n",
       "        [-1.00e+30,  1.00e+30, -5.00e-01],\n",
       "        [ 0.00e+00, -5.00e-01,  1.25e+00]])"
      ]
     },
     "execution_count": 35,
     "metadata": {},
     "output_type": "execute_result"
    }
   ],
   "source": [
    "Gb"
   ]
  },
  {
   "cell_type": "code",
   "execution_count": 36,
   "metadata": {},
   "outputs": [
    {
     "data": {
      "text/plain": [
       "matrix([[-5., -5., -2.],\n",
       "        [-5., -5., -2.],\n",
       "        [-2., -2., -0.]])"
      ]
     },
     "execution_count": 36,
     "metadata": {},
     "output_type": "execute_result"
    }
   ],
   "source": [
    "Gb.I"
   ]
  },
  {
   "cell_type": "code",
   "execution_count": 37,
   "metadata": {},
   "outputs": [],
   "source": [
    "Inv = np.linalg.inv(Gb)"
   ]
  },
  {
   "cell_type": "code",
   "execution_count": 38,
   "metadata": {},
   "outputs": [
    {
     "data": {
      "text/plain": [
       "matrix([[-5., -5., -2.],\n",
       "        [-5., -5., -2.],\n",
       "        [-2., -2., -0.]])"
      ]
     },
     "execution_count": 38,
     "metadata": {},
     "output_type": "execute_result"
    }
   ],
   "source": [
    "Inv"
   ]
  },
  {
   "cell_type": "code",
   "execution_count": null,
   "metadata": {},
   "outputs": [],
   "source": []
  },
  {
   "cell_type": "code",
   "execution_count": 56,
   "metadata": {},
   "outputs": [
    {
     "data": {
      "text/plain": [
       "0.14285714285714285"
      ]
     },
     "execution_count": 56,
     "metadata": {},
     "output_type": "execute_result"
    }
   ],
   "source": [
    "G_[0,0]"
   ]
  },
  {
   "cell_type": "code",
   "execution_count": 58,
   "metadata": {},
   "outputs": [
    {
     "data": {
      "text/plain": [
       "0.16666666666666666"
      ]
     },
     "execution_count": 58,
     "metadata": {},
     "output_type": "execute_result"
    }
   ],
   "source": [
    "G_[3,3]"
   ]
  },
  {
   "cell_type": "code",
   "execution_count": null,
   "metadata": {},
   "outputs": [],
   "source": []
  },
  {
   "cell_type": "markdown",
   "metadata": {},
   "source": [
    "![](fig/Circuito-Grafo-02.png)\n"
   ]
  },
  {
   "cell_type": "code",
   "execution_count": 68,
   "metadata": {},
   "outputs": [],
   "source": [
    "import networkx as nx\n",
    "\n",
    "G = nx.DiGraph()\n",
    "\n",
    "G.add_edge(0, 1, id=1,r=12, vs=-45, i_s=0)\n",
    "G.add_edge(1, 0, id=2, r=12, vs=0, i_s=0)\n",
    "G.add_edge(1, 2, id=3, r=6, vs=0, i_s=0)\n",
    "G.add_edge(2, 1, id=4, r=3, vs=0, i_s=0)\n",
    "G.add_edge(2, 0, id=5, r=6, vs=0, i_s=0)\n",
    "G.add_edge(0, 2, id=6, r=3, vs=0, i_s=0)"
   ]
  },
  {
   "cell_type": "code",
   "execution_count": 69,
   "metadata": {},
   "outputs": [
    {
     "data": {
      "image/png": "[encoded data removed]",
      "text/plain": [
       "<Figure size 432x288 with 1 Axes>"
      ]
     },
     "metadata": {},
     "output_type": "display_data"
    }
   ],
   "source": [
    "nx.draw(G, with_labels=True)"
   ]
  },
  {
   "cell_type": "code",
   "execution_count": 70,
   "metadata": {},
   "outputs": [
    {
     "name": "stdout",
     "output_type": "stream",
     "text": [
      "Gb= [[ 0.66666667 -0.5       ]\n",
      " [-0.5         1.        ]]\n",
      "E= [[9. ]\n",
      " [4.5]]\n",
      "V= [[-9. ]\n",
      " [ 9. ]\n",
      " [ 4.5]\n",
      " [-4.5]\n",
      " [ 4.5]\n",
      " [-4.5]]\n",
      "I= [[ 3.  ]\n",
      " [ 0.75]\n",
      " [ 0.75]\n",
      " [-1.5 ]\n",
      " [ 0.75]\n",
      " [-1.5 ]]\n"
     ]
    }
   ],
   "source": [
    "import numpy as np\n",
    "\n",
    "nN = G.number_of_nodes() - 1\n",
    "nR = G.number_of_edges()\n",
    "A = np.zeros((nN, nR))\n",
    "G_ = np.zeros((nR, nR))\n",
    "Is = np.zeros((nR, 1))\n",
    "Vs = np.zeros((nR, 1))\n",
    "\n",
    "\n",
    "for r in G.edges:\n",
    "    nP = r[0]\n",
    "    nC = r[1]\n",
    "    i = G[nP][nC]['id']\n",
    "    #print(\"Ramo \", i, \" (\", nP,\" ,\", nC, \")\")\n",
    "    if (nP != 0):\n",
    "      A[nP-1, i-1 ] = 1.\n",
    "    if (nC != 0):\n",
    "      A[nC-1, i-1 ] = -1.\n",
    "    G_[i-1][i-1]= 1./G[nP][nC]['r']\n",
    "    Is[i-1, 0] = G[nP][nC]['i_s']\n",
    "    Vs[i-1, 0] = G[nP][nC]['vs']\n",
    "    \n",
    "\n",
    "# Matrizes\n",
    "A = np.matrix(A)\n",
    "G_ = np.matrix(G_)\n",
    "Vs = np.matrix(Vs)\n",
    "Is = np.matrix(Is)\n",
    "\n",
    "Gb = A*G_*A.T\n",
    "print(\"Gb=\",Gb)\n",
    "E= Gb.I*A*(G_*Vs-Is)\n",
    "print(\"E=\", E)\n",
    "V = A.T*E\n",
    "print(\"V=\", V)\n",
    "I = Is + G_*(V-Vs)\n",
    "print(\"I=\", I)"
   ]
  },
  {
   "cell_type": "code",
   "execution_count": null,
   "metadata": {},
   "outputs": [],
   "source": []
  }
 ],
 "metadata": {
  "kernelspec": {
   "display_name": "Python 3",
   "language": "python",
   "name": "python3"
  },
  "language_info": {
   "codemirror_mode": {
    "name": "ipython",
    "version": 3
   },
   "file_extension": ".py",
   "mimetype": "text/x-python",
   "name": "python",
   "nbconvert_exporter": "python",
   "pygments_lexer": "ipython3",
   "version": "3.8.5"
  }
 },
 "nbformat": 4,
 "nbformat_minor": 2
}
