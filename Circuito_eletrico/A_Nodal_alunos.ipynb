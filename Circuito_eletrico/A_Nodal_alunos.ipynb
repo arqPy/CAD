{
 "cells": [
  {
   "cell_type": "code",
   "execution_count": 5,
   "metadata": {},
   "outputs": [],
   "source": [
    "import numpy as np"
   ]
  },
  {
   "cell_type": "markdown",
   "metadata": {},
   "source": [
    "# Análise Nodal\n",
    "\n",
    "![](fig/circuito1.png)\n",
    "\n",
    "$R = \\frac{V}{I}$"
   ]
  },
  {
   "cell_type": "markdown",
   "metadata": {},
   "source": [
    "![](fig/circuito2.png)\n",
    "\n",
    "Notebook Kleverton, Eliel e André"
   ]
  },
  {
   "cell_type": "code",
   "execution_count": 13,
   "metadata": {},
   "outputs": [
    {
     "data": {
      "text/plain": [
       "matrix([[2.25],\n",
       "        [2.25],\n",
       "        [2.25]])"
      ]
     },
     "execution_count": 13,
     "metadata": {},
     "output_type": "execute_result"
    }
   ],
   "source": [
    "r =3\n",
    "n = 2 # 3 nós, sendo 1 nó de referência\n",
    "\n",
    "# Entrada retirada do Grafo\n",
    "A =np.array([[-1, 1, 0], [0,-1,1]])\n",
    "\n",
    "G = np.zeros((r, r))\n",
    "G[0, 0] = 1/6\n",
    "G[1,1] = 1/2\n",
    "G[2, 2] = 1/2\n",
    "\n",
    "\n",
    "Is = np.zeros((r, 1))\n",
    "Is[0,0] = 3.75\n",
    "\n",
    "Vs = np.zeros((r, 1))\n",
    "\n",
    "\n",
    "# Matrizes\n",
    "A = np.matrix(A)\n",
    "G = np.matrix(G)\n",
    "Vs = np.matrix(Vs)\n",
    "Is = np.matrix(Is)\n",
    "\n",
    "#Calculos\n",
    "Gb = A*G*A.T\n",
    "E= Gb.I*A*(G*Vs-Is)\n",
    "V = A.T*E\n",
    "I = Is + G*(V-Vs)\n",
    "I"
   ]
  },
  {
   "cell_type": "code",
   "execution_count": 17,
   "metadata": {},
   "outputs": [
    {
     "data": {
      "text/plain": [
       "3.75"
      ]
     },
     "execution_count": 17,
     "metadata": {},
     "output_type": "execute_result"
    }
   ],
   "source": [
    "45/12\n"
   ]
  },
  {
   "cell_type": "code",
   "execution_count": 15,
   "metadata": {},
   "outputs": [
    {
     "name": "stdout",
     "output_type": "stream",
     "text": [
      "Numero de Nós L.I.: 2\n",
      "Numero de Ramos: 4\n",
      "Nó de partida do ramo 1 : 0\n",
      "Nó de chegada do ramo 1 : 1\n",
      "Nó de partida do ramo 2 : 1\n",
      "Nó de chegada do ramo 2 : 0\n",
      "Nó de partida do ramo 3 : 1\n",
      "Nó de chegada do ramo 3 : 2\n",
      "Nó de partida do ramo 4 : 2\n",
      "Nó de chegada do ramo 4 : 0\n"
     ]
    },
    {
     "data": {
      "text/plain": [
       "array([[-1.,  1.,  1.,  0.],\n",
       "       [ 0.,  0., -1.,  1.]])"
      ]
     },
     "execution_count": 15,
     "metadata": {},
     "output_type": "execute_result"
    }
   ],
   "source": [
    "import numpy as np\n",
    "\n",
    "nN = int(input(\"Numero de Nós L.I.: \"))\n",
    "nR = int(input(\"Numero de Ramos: \"))\n",
    "A = np.zeros((nN, nR))\n",
    "\n",
    "for r in range(nR):\n",
    "    i = int(input(\"Nó de partida do ramo %d : \" %(r +1)))\n",
    "    j = int(input(\"Nó de chegada do ramo %d : \" %(r + 1)))\n",
    "    if ((i != j)and(i>0)):\n",
    "        A[i - 1, r ] = 1\n",
    "    if ((i != j)and(j>0)):\n",
    "        A[j - 1, r] = -1\n",
    "    \n",
    "        \n",
    "A"
   ]
  },
  {
   "cell_type": "code",
   "execution_count": 1,
   "metadata": {},
   "outputs": [],
   "source": [
    "import networkx as nx"
   ]
  },
  {
   "cell_type": "code",
   "execution_count": 2,
   "metadata": {},
   "outputs": [],
   "source": [
    "G = nx.DiGraph()\n",
    "#G.add_edges_from([[0, 1], [1,0], [1, 2], [2, 0]])\n",
    "G.add_edge(1, 0, r=8, vs=0, i_s=0)\n",
    "G.add_edge(0, 1, r=4, vs=0, i_s=0)\n",
    "G.add_edge(1, 2, r=4, vs=0, i_s=0)\n",
    "G.add_edge(2, 1, r=12, vs=0, i_s=0)\n",
    "G.add_edge(2, 0, r=1e30, vs=0, i_s=8)"
   ]
  },
  {
   "cell_type": "code",
   "execution_count": 3,
   "metadata": {},
   "outputs": [
    {
     "data": {
      "image/png": "[encoded data removed]",
      "text/plain": [
       "<Figure size 432x288 with 1 Axes>"
      ]
     },
     "metadata": {},
     "output_type": "display_data"
    }
   ],
   "source": [
    "nx.draw(G, with_labels=True)"
   ]
  },
  {
   "cell_type": "code",
   "execution_count": 4,
   "metadata": {},
   "outputs": [
    {
     "name": "stdout",
     "output_type": "stream",
     "text": [
      "Gb= [[ 0.70833333 -0.33333333]\n",
      " [-0.33333333  0.33333333]]\n",
      "E= [[-21.33333333]\n",
      " [-45.33333333]]\n",
      "V= [[-21.33333333]\n",
      " [ 24.        ]\n",
      " [ 21.33333333]\n",
      " [-24.        ]\n",
      " [-45.33333333]]\n",
      "I= [[-2.66666667]\n",
      " [ 6.        ]\n",
      " [ 5.33333333]\n",
      " [-2.        ]\n",
      " [ 8.        ]]\n"
     ]
    }
   ],
   "source": [
    "import numpy as np\n",
    "\n",
    "nN = G.number_of_nodes() - 1\n",
    "nR = G.number_of_edges()\n",
    "A = np.zeros((nN, nR))\n",
    "G_ = np.zeros((nR, nR))\n",
    "Is = np.zeros((nR, 1))\n",
    "Vs = np.zeros((nR, 1))\n",
    "\n",
    "i = 0\n",
    "for r in G.edges:\n",
    "    nP = r[0]\n",
    "    nC = r[1]\n",
    "    #print(\"Ramo \", i, \" (\", np,\" ,\", nc, \")\")\n",
    "    if (nP != 0):\n",
    "      A[nP-1, i ] = 1.\n",
    "    if (nC != 0):\n",
    "      A[nC-1, i ] = -1.\n",
    "    G_[i][i]= 1./G[nP][nC]['r']\n",
    "    Is[i, 0] = G[nP][nC]['i_s']\n",
    "    Vs[i, 0] = G[nP][nC]['vs']\n",
    "    i += 1\n",
    "\n",
    "\n",
    "\n",
    "# Matrizes\n",
    "A = np.matrix(A)\n",
    "G_ = np.matrix(G_)\n",
    "Vs = np.matrix(Vs)\n",
    "Is = np.matrix(Is)\n",
    "\n",
    "Gb = A*G_*A.T\n",
    "print(\"Gb=\",Gb)\n",
    "E= Gb.I*A*(G_*Vs-Is)\n",
    "print(\"E=\", E)\n",
    "V = A.T*E\n",
    "print(\"V=\", V)\n",
    "I = Is + G_*(V-Vs)\n",
    "print(\"I=\", I)"
   ]
  },
  {
   "cell_type": "markdown",
   "metadata": {},
   "source": [
    "![](fig/ramo_k.png)\n"
   ]
  },
  {
   "cell_type": "markdown",
   "metadata": {},
   "source": [
    "Em um ramo k:\n",
    "\n",
    "$i_k = i_{sk} + g_k*(v - v_{sk})$\n",
    "\n",
    "Todos os ramos do circuito:\n",
    "\n",
    "$I = I_S + G*(V - V_S)$\n",
    "\n",
    "Multiplicando ambos os membros da igualdade pela Matriz A:\n",
    "\n",
    "$A*I = A*I_S + A*G*V - A*G*V_S$\n",
    "\n",
    "Considerando, A*I = 0 (LKC) e $v = A^t*E$:\n",
    "\n",
    "$0 = A*I_S + A*G*A^t*E - A*G*V_S$\n",
    "\n",
    "$A*G*A^t*E = A*G*V_S-A*I_S$\n",
    "\n",
    "$G_{barra}*E = A*(G*V_S -I_S)$"
   ]
  },
  {
   "cell_type": "code",
   "execution_count": null,
   "metadata": {},
   "outputs": [],
   "source": []
  }
 ],
 "metadata": {
  "kernelspec": {
   "display_name": "Python 3",
   "language": "python",
   "name": "python3"
  },
  "language_info": {
   "codemirror_mode": {
    "name": "ipython",
    "version": 3
   },
   "file_extension": ".py",
   "mimetype": "text/x-python",
   "name": "python",
   "nbconvert_exporter": "python",
   "pygments_lexer": "ipython3",
   "version": "3.8.5"
  }
 },
 "nbformat": 4,
 "nbformat_minor": 2
}
