{
  "nbformat": 4,
  "nbformat_minor": 0,
  "metadata": {
    "colab": {
      "provenance": [],
      "authorship_tag": "ABX9TyOxC/hnb8irYR9Ic0AoVMiM",
      "include_colab_link": true
    },
    "kernelspec": {
      "name": "python3",
      "display_name": "Python 3"
    },
    "language_info": {
      "name": "python"
    }
  },
  "cells": [
    {
      "cell_type": "markdown",
      "metadata": {
        "id": "view-in-github",
        "colab_type": "text"
      },
      "source": [
        "<a href=\"https://colab.research.google.com/github/arqPy/CAD/blob/main/Analise_de_Circuitos_2.ipynb\" target=\"_parent\"><img src=\"https://colab.research.google.com/assets/colab-badge.svg\" alt=\"Open In Colab\"/></a>"
      ]
    },
    {
      "cell_type": "markdown",
      "source": [
        "## Filtros Passivos\n",
        "\n",
        "5) Filtro Passa Faixa - FPF\n",
        "\n",
        "![](https://github.com/arqPy/PDS/blob/main/Te%CC%81cnicas%20Modulac%CC%A7a%CC%83o/img/FPPF.png?raw=true)"
      ],
      "metadata": {
        "id": "1r4tYhyDGyhH"
      }
    },
    {
      "cell_type": "code",
      "source": [
        "import numpy as np"
      ],
      "metadata": {
        "id": "PQKAcBo9Pr94"
      },
      "execution_count": 2,
      "outputs": []
    },
    {
      "cell_type": "code",
      "execution_count": 1,
      "metadata": {
        "colab": {
          "base_uri": "https://localhost:8080/"
        },
        "id": "27DuvAT0Gut7",
        "outputId": "be4af8f7-36ab-4138-c6fa-b169bc3e27e3"
      },
      "outputs": [
        {
          "output_type": "stream",
          "name": "stdout",
          "text": [
            "w =  376.99111843077515\n",
            "Gv =  0.04390225283527433\n",
            "wci1 =  951.2492197250392 wci2 =  -24968.808471946108\n",
            "wcs1 =  1051.2492197250392 wcs2 =  24968.808471946108\n",
            "dW =  100.0  rad/s ou  15.915494309189533\n"
          ]
        }
      ],
      "source": [
        "\n",
        "\n",
        "f = 60\n",
        "w = 2*np.pi*f\n",
        "L = 0.1\n",
        "C = 10e-6\n",
        "R = 10\n",
        "\n",
        "print(\"w = \", w)\n",
        "Gv = 1.- w**2*L*C\n",
        "Gv = Gv/(w*R*C)\n",
        "Gv = 1. + Gv*Gv\n",
        "Gv = 1./np.sqrt(Gv)\n",
        "print(\"Gv = \", Gv)\n",
        "\n",
        "RC = R*C\n",
        "LC = L*C\n",
        "delta = RC*RC + 4*LC\n",
        "\n",
        "wci1 = (-RC + np.sqrt(delta))/(2*LC)\n",
        "wci2 = (-RC / np.sqrt(delta))/(2*LC)\n",
        "\n",
        "print(\"wci1 = \", wci1, \"wci2 = \", wci2)\n",
        "\n",
        "wcs1 = (RC + np.sqrt(delta))/(2*LC)\n",
        "wcs2 = (RC / np.sqrt(delta))/(2*LC)\n",
        "\n",
        "print(\"wcs1 = \", wcs1, \"wcs2 = \", wcs2)\n",
        "\n",
        "dW = wcs1-wci1\n",
        "\n",
        "print(\"dW = \", dW, \" rad/s ou \", dW/(2*np.pi))"
      ]
    },
    {
      "cell_type": "markdown",
      "source": [
        "2) FILTRO PASSA BAIXA\n",
        "\n",
        "![](https://github.com/arqPy/PDS/blob/main/Te%CC%81cnicas%20Modulac%CC%A7a%CC%83o/img/FPB-Cap.png?raw=true)\n",
        "\n",
        "![](https://github.com/arqPy/PDS/blob/main/Te%CC%81cnicas%20Modulac%CC%A7a%CC%83o/img/graphics%20FPB-c.png?raw=true)"
      ],
      "metadata": {
        "id": "hIqOqtQ2H33E"
      }
    },
    {
      "cell_type": "code",
      "source": [
        "\n",
        "f = 60\n",
        "w = 2*np.pi*f\n",
        "C = 100e-6\n",
        "R = 10\n",
        "\n",
        "RC = R*C\n",
        "wc = 1./RC\n",
        "\n",
        "print(\"w = \", w, \"wc = \", wc)\n",
        "print(\"f = \", w/(2*np.pi), \"fc = \", wc/(2*np.pi))\n",
        "\n",
        "Gv = 1./np.sqrt(1 + (w/wc)**2)\n",
        "print(\"Gv = \", Gv)\n"
      ],
      "metadata": {
        "colab": {
          "base_uri": "https://localhost:8080/"
        },
        "id": "34RffSgxHoj9",
        "outputId": "923a05c6-5217-462c-c060-978c03d464a5"
      },
      "execution_count": 5,
      "outputs": [
        {
          "output_type": "stream",
          "name": "stdout",
          "text": [
            "w =  376.99111843077515 wc =  1000.0\n",
            "f =  59.99999999999999 fc =  159.15494309189535\n",
            "Gv =  0.9357152202787051\n"
          ]
        }
      ]
    },
    {
      "cell_type": "code",
      "source": [
        "RC"
      ],
      "metadata": {
        "colab": {
          "base_uri": "https://localhost:8080/"
        },
        "id": "CpugT4tqPfRW",
        "outputId": "256bd453-f5e6-416f-bac5-c47b00d415ba"
      },
      "execution_count": 6,
      "outputs": [
        {
          "output_type": "execute_result",
          "data": {
            "text/plain": [
              "0.001"
            ]
          },
          "metadata": {},
          "execution_count": 6
        }
      ]
    },
    {
      "cell_type": "code",
      "source": [],
      "metadata": {
        "id": "_R-2mIYotjx7"
      },
      "execution_count": null,
      "outputs": []
    }
  ]
}