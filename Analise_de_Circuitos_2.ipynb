{
  "nbformat": 4,
  "nbformat_minor": 0,
  "metadata": {
    "colab": {
      "provenance": [],
      "authorship_tag": "ABX9TyPvcoFBHc5evLI5FHltIbyX",
      "include_colab_link": true
    },
    "kernelspec": {
      "name": "python3",
      "display_name": "Python 3"
    },
    "language_info": {
      "name": "python"
    }
  },
  "cells": [
    {
      "cell_type": "markdown",
      "metadata": {
        "id": "view-in-github",
        "colab_type": "text"
      },
      "source": [
        "<a href=\"https://colab.research.google.com/github/arqPy/CAD/blob/main/Analise_de_Circuitos_2.ipynb\" target=\"_parent\"><img src=\"https://colab.research.google.com/assets/colab-badge.svg\" alt=\"Open In Colab\"/></a>"
      ]
    },
    {
      "cell_type": "markdown",
      "source": [
        "## Filtros Passivos\n",
        "\n",
        "5) Filtro Passa Faixa - FPF\n",
        "\n",
        "![](https://github.com/arqPy/PDS/blob/main/Te%CC%81cnicas%20Modulac%CC%A7a%CC%83o/img/FPPF.png?raw=true)\n",
        "\n"
      ],
      "metadata": {
        "id": "1r4tYhyDGyhH"
      }
    },
    {
      "cell_type": "code",
      "source": [
        "\n",
        "import numpy as np"
      ],
      "metadata": {
        "id": "PQKAcBo9Pr94"
      },
      "execution_count": 2,
      "outputs": []
    },
    {
      "cell_type": "code",
      "execution_count": 5,
      "metadata": {
        "colab": {
          "base_uri": "https://localhost:8080/"
        },
        "id": "27DuvAT0Gut7",
        "outputId": "17bb5f30-5983-4600-f653-b9770635dffa"
      },
      "outputs": [
        {
          "output_type": "stream",
          "name": "stdout",
          "text": [
            "w =  376.99111843077515\n",
            "Gv =  0.3395706532243578\n",
            "wci =  951.2492197250392  fci = 151.39601543154848\n",
            "wcss =  1051.2492197250392  fcs = 167.311509740738\n",
            "dW =  100.0  rad/s ou  15.915494309189533  Hz\n"
          ]
        }
      ],
      "source": [
        "\n",
        "# considerando para uma frequencia especifica\n",
        "f = 60\n",
        "w = 2*np.pi*f\n",
        "L = 0.1\n",
        "C = 10e-6\n",
        "R = 10\n",
        "\n",
        "print(\"w = \", w)\n",
        "Gv = 1./np.sqrt(1 + (1.- w**2*L*C/(w*R*C))**2)\n",
        "\n",
        "print(\"Gv = \", Gv)\n",
        "\n",
        "\n",
        "delta = R*C*R*C + 4*L*C\n",
        "\n",
        "wci = (-R*C + np.sqrt(delta))/(2*L*C)\n",
        "\n",
        "\n",
        "print(\"wci = \", wci,  \" fci =\", wci/(2*np.pi))\n",
        "\n",
        "wcs = (R*C + np.sqrt(delta))/(2*L*C)\n",
        "\n",
        "print(\"wcss = \", wcs, \" fcs =\", wcs/(2*np.pi))\n",
        "\n",
        "dW = wcs-wci\n",
        "df = dW/(2*np.pi)\n",
        "\n",
        "print(\"dW = \", dW, \" rad/s ou \", df, \" Hz\")"
      ]
    },
    {
      "cell_type": "code",
      "source": [
        "BW = R/L\n",
        "w0 = 1/np.sqrt(L*C)\n",
        "\n",
        "wci = -BW/2 + np.sqrt((BW/2)**2 + w0**2)\n",
        "wsi = BW/2 + np.sqrt((BW/2)**2 + w0**2)\n",
        "\n",
        "print(\"w0 = %.2f, BW = %.2f wci = %.2f wcs = %.2f\" %(w0, BW, wci, wcs))"
      ],
      "metadata": {
        "id": "JCkmUEKSlIP9",
        "outputId": "c6094270-1efb-4432-94e3-836674742ccd",
        "colab": {
          "base_uri": "https://localhost:8080/"
        }
      },
      "execution_count": 8,
      "outputs": [
        {
          "output_type": "stream",
          "name": "stdout",
          "text": [
            "w0 = 1000.00, BW = 100.00 wci = 951.25 wcs = 1051.25\n"
          ]
        }
      ]
    },
    {
      "cell_type": "markdown",
      "source": [
        "2) FILTRO PASSA BAIXA\n",
        "\n",
        "![](https://github.com/arqPy/PDS/blob/main/Te%CC%81cnicas%20Modulac%CC%A7a%CC%83o/img/FPB-Cap.png?raw=true)\n",
        "\n",
        "![](https://github.com/arqPy/PDS/blob/main/Te%CC%81cnicas%20Modulac%CC%A7a%CC%83o/img/graphics%20FPB-c.png?raw=true)"
      ],
      "metadata": {
        "id": "hIqOqtQ2H33E"
      }
    },
    {
      "cell_type": "code",
      "source": [
        "\n",
        "f = 60\n",
        "w = 2*np.pi*f\n",
        "C = 100e-6\n",
        "R = 10\n",
        "\n",
        "RC = R*C\n",
        "wc = 1./RC\n",
        "\n",
        "print(\"w = \", w, \"wc = \", wc)\n",
        "print(\"f = \", w/(2*np.pi), \"fc = \", wc/(2*np.pi))\n",
        "\n",
        "Gv = 1./np.sqrt(1 + (w/wc)**2)\n",
        "print(\"Gv = \", Gv)\n"
      ],
      "metadata": {
        "colab": {
          "base_uri": "https://localhost:8080/"
        },
        "id": "34RffSgxHoj9",
        "outputId": "923a05c6-5217-462c-c060-978c03d464a5"
      },
      "execution_count": null,
      "outputs": [
        {
          "output_type": "stream",
          "name": "stdout",
          "text": [
            "w =  376.99111843077515 wc =  1000.0\n",
            "f =  59.99999999999999 fc =  159.15494309189535\n",
            "Gv =  0.9357152202787051\n"
          ]
        }
      ]
    },
    {
      "cell_type": "markdown",
      "source": [
        "6) FRF\n",
        "\n"
      ],
      "metadata": {
        "id": "l50OX9klHKIh"
      }
    },
    {
      "cell_type": "code",
      "source": [
        "RC"
      ],
      "metadata": {
        "colab": {
          "base_uri": "https://localhost:8080/"
        },
        "id": "CpugT4tqPfRW",
        "outputId": "256bd453-f5e6-416f-bac5-c47b00d415ba"
      },
      "execution_count": null,
      "outputs": [
        {
          "output_type": "execute_result",
          "data": {
            "text/plain": [
              "0.001"
            ]
          },
          "metadata": {},
          "execution_count": 6
        }
      ]
    },
    {
      "cell_type": "code",
      "source": [
        "# FILTRO PASSIVO REJEITA FAIXA\n",
        "f = 60\n",
        "w = 2*np.pi*f\n",
        "L = 0.1\n",
        "C = 100e-6\n",
        "R = 10\n",
        "\n",
        "RC = R*C\n",
        "LC = L*C\n",
        "\n",
        "print(\"w = \", w)\n",
        "\n",
        "Gv = 1./np.sqrt(1 + ((w*RC)/(1 - w**2*LC))**2)\n",
        "print(\"Gv = \", Gv)\n",
        "\n",
        "\n",
        "delta = RC*RC + 4*LC\n",
        "\n",
        "wci1 = (-RC + np.sqrt(delta))/(2*LC)\n",
        "wci2 = (-RC - np.sqrt(delta))/(2*LC)\n",
        "\n",
        "print(\"wci1 = \", wci1, \"wci2 = \", wci2)\n",
        "\n",
        "wcs1 = (RC + np.sqrt(delta))/(2*LC)\n",
        "wcs2 = (RC - np.sqrt(delta))/(2*LC)\n",
        "\n",
        "print(\"wcs1 = \", wcs1, \"wcs2 = \", wcs2)\n",
        "\n",
        "BW = wcs1-wci1\n",
        "\n",
        "print(\"BW = \", BW, \" rad/s ou Bf = \", BW/(2*np.pi))"
      ],
      "metadata": {
        "id": "_R-2mIYotjx7",
        "colab": {
          "base_uri": "https://localhost:8080/"
        },
        "outputId": "e24eac0e-9b81-43b2-ab29-63f965f40528"
      },
      "execution_count": null,
      "outputs": [
        {
          "output_type": "stream",
          "name": "stdout",
          "text": [
            "w =  376.99111843077515\n",
            "Gv =  0.7451469376539507\n",
            "wci1 =  270.1562118716424 wci2 =  -370.1562118716424\n",
            "wcs1 =  370.1562118716424 wcs2 =  -270.1562118716424\n",
            "BW =  100.0  rad/s ou Bf =  15.915494309189533\n"
          ]
        }
      ]
    },
    {
      "cell_type": "code",
      "source": [
        "# FILTRO PASSIVO REJEITA FAIXA\n",
        "# Utilizando o fator de Qualidade Q\n",
        "\n",
        "\n",
        "f = 60\n",
        "w = 2*np.pi*f\n",
        "L = 0.1\n",
        "C = 100e-6\n",
        "R = 10\n",
        "\n",
        "BW = R/L\n",
        "w0 = np.sqrt(1/(L*C))\n",
        "wci = -BW/2 + np.sqrt((BW/2)**2 + w0**2)\n",
        "wcs = BW/2 + np.sqrt((BW/2)**2 + w0**2)\n",
        "\n",
        "print(\"BW = \", BW, \"w0 = \", w0, \"wci = \", wci, \"wcs = \", wcs)\n",
        "'''\n",
        "Gv = 1./np.sqrt(1 + ((w*RC)/(1 - w**2*LC))**2)\n",
        "print(\"Gv = \", Gv)\n",
        "\n",
        "\n",
        "delta = RC*RC + 4*LC\n",
        "\n",
        "wci1 = (-RC + np.sqrt(delta))/(2*LC)\n",
        "wci2 = (-RC - np.sqrt(delta))/(2*LC)\n",
        "\n",
        "print(\"wci1 = \", wci1, \"wci2 = \", wci2)\n",
        "\n",
        "wcs1 = (RC + np.sqrt(delta))/(2*LC)\n",
        "wcs2 = (RC - np.sqrt(delta))/(2*LC)\n",
        "\n",
        "print(\"wcs1 = \", wcs1, \"wcs2 = \", wcs2)\n",
        "\n",
        "BW = wcs1-wci1\n",
        "\n",
        "print(\"BW = \", BW, \" rad/s ou Bf = \", BW/(2*np.pi))\n",
        "'''"
      ],
      "metadata": {
        "colab": {
          "base_uri": "https://localhost:8080/",
          "height": 106
        },
        "id": "K26m6JR1IRk2",
        "outputId": "117ce00c-07d9-49b9-9688-0b0f6bc0e9d1"
      },
      "execution_count": null,
      "outputs": [
        {
          "output_type": "stream",
          "name": "stdout",
          "text": [
            "BW =  100.0 w0 =  316.2277660168379 wci =  270.1562118716424 wcs =  370.1562118716424\n"
          ]
        },
        {
          "output_type": "execute_result",
          "data": {
            "text/plain": [
              "'\\nGv = 1./np.sqrt(1 + ((w*RC)/(1 - w**2*LC))**2)\\nprint(\"Gv = \", Gv)\\n\\n\\ndelta = RC*RC + 4*LC\\n\\nwci1 = (-RC + np.sqrt(delta))/(2*LC)\\nwci2 = (-RC - np.sqrt(delta))/(2*LC)\\n\\nprint(\"wci1 = \", wci1, \"wci2 = \", wci2)\\n\\nwcs1 = (RC + np.sqrt(delta))/(2*LC)\\nwcs2 = (RC - np.sqrt(delta))/(2*LC)\\n\\nprint(\"wcs1 = \", wcs1, \"wcs2 = \", wcs2)\\n\\nBW = wcs1-wci1\\n\\nprint(\"BW = \", BW, \" rad/s ou Bf = \", BW/(2*np.pi))\\n'"
            ],
            "application/vnd.google.colaboratory.intrinsic+json": {
              "type": "string"
            }
          },
          "metadata": {},
          "execution_count": 17
        }
      ]
    },
    {
      "cell_type": "code",
      "source": [],
      "metadata": {
        "id": "jnga5KQ9Me2I"
      },
      "execution_count": null,
      "outputs": []
    }
  ]
}